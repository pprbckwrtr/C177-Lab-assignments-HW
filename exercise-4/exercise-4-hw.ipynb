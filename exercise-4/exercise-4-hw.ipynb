{
 "cells": [
  {
   "cell_type": "code",
   "execution_count": 3,
   "metadata": {
    "collapsed": false
   },
   "outputs": [
    {
     "name": "stdout",
     "output_type": "stream",
     "text": [
      "100\n",
      "101\n",
      "102\n",
      "103\n",
      "104\n",
      "105\n",
      "106\n",
      "107\n",
      "108\n",
      "109\n",
      "110\n"
     ]
    }
   ],
   "source": [
    "#1\n",
    "#write a for-loop that prints out numbers from 100 to 110\n",
    "for current_number in list(range(100,111)):\n",
    "    print (current_number)"
   ]
  },
  {
   "cell_type": "code",
   "execution_count": 2,
   "metadata": {
    "collapsed": false
   },
   "outputs": [
    {
     "name": "stdout",
     "output_type": "stream",
     "text": [
      "100\n",
      "101\n",
      "102\n",
      "103\n",
      "104\n",
      "105\n",
      "106\n",
      "107\n",
      "108\n",
      "109\n",
      "110\n"
     ]
    }
   ],
   "source": [
    "#2\n",
    "#write a while-loop that prints out numbers from 100 to 110\n",
    "count=100\n",
    "\n",
    "while count < 111:\n",
    "    print(count)\n",
    "    count = count +1"
   ]
  },
  {
   "cell_type": "code",
   "execution_count": 4,
   "metadata": {
    "collapsed": false,
    "scrolled": true
   },
   "outputs": [
    {
     "name": "stdout",
     "output_type": "stream",
     "text": [
      "100\n",
      "121\n",
      "144\n",
      "169\n",
      "196\n",
      "225\n"
     ]
    }
   ],
   "source": [
    "#3\n",
    "#Write a loop that prints out the squares of the numbers from 10-15\n",
    "list = range (10,16)\n",
    "for item in list:\n",
    "    print (item**2)"
   ]
  },
  {
   "cell_type": "code",
   "execution_count": 6,
   "metadata": {
    "collapsed": false
   },
   "outputs": [
    {
     "name": "stdout",
     "output_type": "stream",
     "text": [
      "Scooby is a character in that most glorious of cartoons, Scooby Doo\n",
      "Shaggy is a character in that most glorious of cartoons, Scooby Doo\n",
      "Velma is a character in that most glorious of cartoons, Scooby Doo\n",
      "Daphne is a character in that most glorious of cartoons, Scooby Doo\n",
      "Fred is a character in that most glorious of cartoons, Scooby Doo\n"
     ]
    }
   ],
   "source": [
    "#4\n",
    "#Write a loop that iterates over the list [\"Scooby\", \"Shaggy\", \"Velma\", \"Daphne\", \"Fred\"] \n",
    "#and for each character prints the statement \n",
    "#\"XXX is a character in that most glorious of cartoons, Scooby Doo\".\n",
    "list = [\"Scooby\", \"Shaggy\", \"Velma\", \"Daphne\", \"Fred\"]\n",
    "for item in list:\n",
    "    print (item + \" is a character in that most glorious of cartoons, Scooby Doo\")"
   ]
  },
  {
   "cell_type": "code",
   "execution_count": 4,
   "metadata": {
    "collapsed": false
   },
   "outputs": [
    {
     "name": "stdout",
     "output_type": "stream",
     "text": [
      "10\n"
     ]
    }
   ],
   "source": [
    "#5\n",
    "def fact_or_sum(number):\n",
    "#0 returns 0\n",
    "    if number == 0:\n",
    "        return (\"0\")\n",
    "#odd returns factorial\n",
    "    elif (number % 2 != 0):\n",
    "        factorial = 1\n",
    "        for i in range (1, number+1):\n",
    "            factorial = factorial*i\n",
    "        print (factorial)\n",
    "#even returns sum of all numbers less than\n",
    "    elif (number % 2 ==0):\n",
    "        total=0\n",
    "        while total < total + number:\n",
    "            total = total + number \n",
    "            number = number -1\n",
    "        print (total)\n",
    "#anything else returns error message\n",
    "    else:\n",
    "        return (\"Error\")\n",
    "fact_or_sum(4)"
   ]
  },
  {
   "cell_type": "code",
   "execution_count": null,
   "metadata": {
    "collapsed": true
   },
   "outputs": [],
   "source": []
  }
 ],
 "metadata": {
  "anaconda-cloud": {},
  "kernelspec": {
   "display_name": "Python [default]",
   "language": "python",
   "name": "python3"
  },
  "language_info": {
   "codemirror_mode": {
    "name": "ipython",
    "version": 3
   },
   "file_extension": ".py",
   "mimetype": "text/x-python",
   "name": "python",
   "nbconvert_exporter": "python",
   "pygments_lexer": "ipython3",
   "version": "3.5.2"
  }
 },
 "nbformat": 4,
 "nbformat_minor": 2
}
