{
 "cells": [
  {
   "cell_type": "code",
   "execution_count": 1,
   "metadata": {
    "collapsed": true
   },
   "outputs": [],
   "source": [
    "#2 of homework\n",
    "a=3\n",
    "b=17\n",
    "c= a + b"
   ]
  },
  {
   "cell_type": "code",
   "execution_count": 2,
   "metadata": {
    "collapsed": true
   },
   "outputs": [],
   "source": [
    "favorite_animal = \"pronghorn\""
   ]
  },
  {
   "cell_type": "code",
   "execution_count": 16,
   "metadata": {
    "collapsed": false
   },
   "outputs": [],
   "source": [
    "favorite_dinners= [\"pizza\", \"dolma\", \"dim sum\"];\n",
    "num_fav_dinners= len(favorite_dinners)"
   ]
  },
  {
   "cell_type": "code",
   "execution_count": 17,
   "metadata": {
    "collapsed": false
   },
   "outputs": [
    {
     "data": {
      "text/plain": [
       "3"
      ]
     },
     "execution_count": 17,
     "metadata": {},
     "output_type": "execute_result"
    }
   ],
   "source": [
    "num_fav_dinners"
   ]
  },
  {
   "cell_type": "code",
   "execution_count": 18,
   "metadata": {
    "collapsed": false
   },
   "outputs": [
    {
     "data": {
      "text/plain": [
       "20"
      ]
     },
     "execution_count": 18,
     "metadata": {},
     "output_type": "execute_result"
    }
   ],
   "source": [
    "c"
   ]
  },
  {
   "cell_type": "code",
   "execution_count": 50,
   "metadata": {
    "collapsed": false
   },
   "outputs": [
    {
     "name": "stdout",
     "output_type": "stream",
     "text": [
      "What a pleasant temperature!\n"
     ]
    }
   ],
   "source": [
    "#3 of homework\n",
    "def hw3_function(int):\n",
    "    if int < 5:\n",
    "        print (\"Brr! It's cold!\")\n",
    "    elif int > 25:\n",
    "        print (\"It's pretty warm!\")\n",
    "    elif 5 <= int <= 25:\n",
    "        print (\"What a pleasant temperature!\")\n",
    "hw3_function(25)"
   ]
  },
  {
   "cell_type": "code",
   "execution_count": 68,
   "metadata": {
    "collapsed": false,
    "scrolled": false
   },
   "outputs": [
    {
     "name": "stdout",
     "output_type": "stream",
     "text": [
      "match!\n"
     ]
    }
   ],
   "source": [
    "#4 of homework\n",
    "import re\n",
    "dna = \"ATAATTAACGGAGCTTATTA\"\n",
    "if re.search(r\"(GA|TA|TGA|T|G|C)\", dna):\n",
    "    print (\"match!\")"
   ]
  },
  {
   "cell_type": "code",
   "execution_count": 128,
   "metadata": {
    "collapsed": false,
    "scrolled": true
   },
   "outputs": [
    {
     "ename": "TypeError",
     "evalue": "rps() takes 0 positional arguments but 1 was given",
     "output_type": "error",
     "traceback": [
      "\u001b[0;31m---------------------------------------------------------------------------\u001b[0m",
      "\u001b[0;31mTypeError\u001b[0m                                 Traceback (most recent call last)",
      "\u001b[0;32m<ipython-input-128-3f162be4ed08>\u001b[0m in \u001b[0;36m<module>\u001b[0;34m()\u001b[0m\n\u001b[1;32m     63\u001b[0m         \u001b[0mtry_again\u001b[0m\u001b[0;34m(\u001b[0m\u001b[0;34m)\u001b[0m\u001b[0;34m\u001b[0m\u001b[0m\n\u001b[1;32m     64\u001b[0m \u001b[0;34m\u001b[0m\u001b[0m\n\u001b[0;32m---> 65\u001b[0;31m \u001b[0mrps\u001b[0m\u001b[0;34m(\u001b[0m\u001b[0;34m\"1\"\u001b[0m\u001b[0;34m)\u001b[0m\u001b[0;34m\u001b[0m\u001b[0m\n\u001b[0m",
      "\u001b[0;31mTypeError\u001b[0m: rps() takes 0 positional arguments but 1 was given"
     ]
    }
   ],
   "source": [
    "#5 of homework\n",
    "import random\n",
    "def rps():\n",
    "    computer_choice = random.randint (1, 3)\n",
    "    if computer_choice == 1:\n",
    "        computer_choice_rock()\n",
    "    elif computer_choice == 2:\n",
    "        computer_choice_paper()\n",
    "    else:\n",
    "        computer_choice_scissors()\n",
    "def computer_choice_rock():\n",
    "    user_choice = raw_input (\"1 for rock, 2 for paper, 3 for scissors. Make your choice: \")\n",
    "    if user_choice == \"1\":\n",
    "        print(\"You picked rock; Computer picked rock; Game is a tie.\")\n",
    "        try_again()\n",
    "    if user_choice == \"2\":\n",
    "        print(\"You picked paper; Computer picked rock; +1 for you!\")\n",
    "        try_again()\n",
    "    if user_choice == \"3\":\n",
    "        print(\"You picked scissors; Computer picked rock; +1 for computer!\")\n",
    "        try_again()\n",
    "    else:\n",
    "        print(\"Try Again\")\n",
    "        computer_choice_rock()\n",
    "def computer_choice_paper():\n",
    "    user_choice = raw_input (\"1 for rock, 2 for paper, 3 for scissors. Make your choice: \")\n",
    "    if user_choice == \"1\":\n",
    "        print(\"You picked rock; Computer picked paper; +1 for computer\")\n",
    "        try_again()\n",
    "    if user_choice == \"2\":\n",
    "        print(\"You picked paper; Computer picked paper; Game is a tie.\")\n",
    "        try_again()\n",
    "    if user_choice == \"3\":\n",
    "        print(\"You picked scissors; Computer picked paper; +1 for you!\")\n",
    "        try_again()\n",
    "    else:\n",
    "        print(\"Try Again\")\n",
    "        computer_choice_paper()\n",
    "def computer_choice_scissors():\n",
    "    user_choice = raw_input (\"1 for rock, 2 for paper, 3 for scissors. Make your choice: \")\n",
    "    if user_choice == \"1\":\n",
    "        print(\"You picked rock; Computer picked scissors; +1 for you!\")\n",
    "        try_again()\n",
    "    if user_choice == \"2\":\n",
    "        print(\"You picked paper; Computer picked scissors; +1 for computer!\")\n",
    "        try_again()\n",
    "    if user_choice == \"3\":\n",
    "        print(\"You picked scissors; Computer picked scissors; Game is a tie\")\n",
    "        try_again()\n",
    "    else:\n",
    "        print(\"Try Again\")\n",
    "        computer_choice_scissors()\n",
    "#Define Try Again function\n",
    "def try_again():\n",
    "    choice = raw_input(\"Would you like to play again? Yes or no?\")\n",
    "    if choice == \"YES\" or choice == \"yes\" or choice == \"Yes\":\n",
    "        rps()\n",
    "    elif choice == \"NO\" or choice == \"No\" or choice == \"no\":\n",
    "        print (\"Thanks for playing!\")\n",
    "        quit ()\n",
    "    else:\n",
    "        print (\"Try Again\")\n",
    "        try_again()\n"
   ]
  },
  {
   "cell_type": "code",
   "execution_count": 130,
   "metadata": {
    "collapsed": false
   },
   "outputs": [
    {
     "ename": "NameError",
     "evalue": "name 'rock' is not defined",
     "output_type": "error",
     "traceback": [
      "\u001b[0;31m---------------------------------------------------------------------------\u001b[0m",
      "\u001b[0;31mNameError\u001b[0m                                 Traceback (most recent call last)",
      "\u001b[0;32m<ipython-input-130-08e6b9a6c120>\u001b[0m in \u001b[0;36m<module>\u001b[0;34m()\u001b[0m\n\u001b[0;32m----> 1\u001b[0;31m \u001b[0mrps\u001b[0m\u001b[0;34m(\u001b[0m\u001b[0mrock\u001b[0m\u001b[0;34m)\u001b[0m\u001b[0;34m\u001b[0m\u001b[0m\n\u001b[0m",
      "\u001b[0;31mNameError\u001b[0m: name 'rock' is not defined"
     ]
    }
   ],
   "source": []
  },
  {
   "cell_type": "code",
   "execution_count": null,
   "metadata": {
    "collapsed": true
   },
   "outputs": [],
   "source": []
  }
 ],
 "metadata": {
  "kernelspec": {
   "display_name": "Python [conda root]",
   "language": "python",
   "name": "conda-root-py"
  },
  "language_info": {
   "codemirror_mode": {
    "name": "ipython",
    "version": 3
   },
   "file_extension": ".py",
   "mimetype": "text/x-python",
   "name": "python",
   "nbconvert_exporter": "python",
   "pygments_lexer": "ipython3",
   "version": "3.5.2"
  }
 },
 "nbformat": 4,
 "nbformat_minor": 2
}
