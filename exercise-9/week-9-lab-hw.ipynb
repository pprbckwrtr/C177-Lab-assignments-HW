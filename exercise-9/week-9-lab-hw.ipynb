{
 "cells": [
  {
   "cell_type": "markdown",
   "metadata": {},
   "source": [
    "## 1.\n",
    "### a. Describe the changes in Speciation rates across the Canidae lineage. \n",
    "Drop in speciation rates 30 MA - 5MA. Steep increase 5MA. \n",
    "### b. Describe the changes in Extinction rates across the Canidae lineage.\n",
    "Very steep increase ~2 MA.\n",
    "### c. Describe the changes in Diversification rates across the Canidae lineage.\n",
    "Slight increase in net diversification rate ~ 8 MA, but then a a very steep decrease ~2 MA. "
   ]
  },
  {
   "cell_type": "markdown",
   "metadata": {},
   "source": [
    "## 2, 3, 4 and 5 completed\n",
    "## 6. \n",
    "a. The drop in speciation rates at 30 MA is much steeper. Speciation rate 50-30 MA is higher.\n",
    "b. Extinction graphs very similar\n",
    "c. Steeper and more significant decrease in net diversification ~30 MA. Higher net diversification peak 2-8 MA. "
   ]
  },
  {
   "cell_type": "markdown",
   "metadata": {},
   "source": [
    "## 7 and 8 completed"
   ]
  },
  {
   "cell_type": "code",
   "execution_count": null,
   "metadata": {
    "collapsed": true
   },
   "outputs": [],
   "source": []
  }
 ],
 "metadata": {
  "anaconda-cloud": {},
  "kernelspec": {
   "display_name": "Python [default]",
   "language": "python",
   "name": "python3"
  },
  "language_info": {
   "codemirror_mode": {
    "name": "ipython",
    "version": 3
   },
   "file_extension": ".py",
   "mimetype": "text/x-python",
   "name": "python",
   "nbconvert_exporter": "python",
   "pygments_lexer": "ipython3",
   "version": "3.5.2"
  }
 },
 "nbformat": 4,
 "nbformat_minor": 2
}
