{
 "cells": [
  {
   "cell_type": "markdown",
   "metadata": {},
   "source": [
    "# Week 9 Labwork\n",
    "    1. How many fossils are included in the dataset?\n",
    "        2946\n",
    "    2. How many fossils have been identified to genus-level only? How many to species-level?\n",
    "        genus: 614\n",
    "        species: 2107\n",
    "    3. How many unique accepted names are part of this dataset?\n",
    "        212"
   ]
  },
  {
   "cell_type": "markdown",
   "metadata": {
    "collapsed": true
   },
   "source": [
    "## Pyrate To - Do\n",
    "\n",
    "1. How can we change the sampling frequency of our PyRate run?\n",
    "       -s <sampling frequency>\n",
    "2. What does the -n flag achieve?\n",
    "       mcmc generations"
   ]
  },
  {
   "cell_type": "markdown",
   "metadata": {},
   "source": [
    "## Summary\n",
    "\n",
    "\n",
    "sum.txt: list of settings used in the analysis.\n",
    "\n",
    "mcmc.log: tab-separated table with the MCMC samples of posterior, prior, likelihoods of preservation process and birth death, the preservation rate, paramter shape of gamma-distributed heterogeneity, # of sampled rate shifts, origin of the oldest lineage, total branch length, and the times of speciation and extinction of all taxa in the data set\n",
    "\n",
    "marginal_rates.log: tab-separated table with posterior samples of  marginal rates of speciation, extinction, and net diversification (1 time u)"
   ]
  },
  {
   "cell_type": "code",
   "execution_count": null,
   "metadata": {
    "collapsed": true
   },
   "outputs": [],
   "source": []
  }
 ],
 "metadata": {
  "anaconda-cloud": {},
  "kernelspec": {
   "display_name": "Python [default]",
   "language": "python",
   "name": "python3"
  },
  "language_info": {
   "codemirror_mode": {
    "name": "ipython",
    "version": 3
   },
   "file_extension": ".py",
   "mimetype": "text/x-python",
   "name": "python",
   "nbconvert_exporter": "python",
   "pygments_lexer": "ipython3",
   "version": "3.5.2"
  }
 },
 "nbformat": 4,
 "nbformat_minor": 2
}
